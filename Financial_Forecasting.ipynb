{
  "nbformat": 4,
  "nbformat_minor": 0,
  "metadata": {
    "colab": {
      "provenance": [],
      "authorship_tag": "ABX9TyNXaBiq9XO168P1LKIJOoUv",
      "include_colab_link": true
    },
    "kernelspec": {
      "name": "python3",
      "display_name": "Python 3"
    },
    "language_info": {
      "name": "python"
    }
  },
  "cells": [
    {
      "cell_type": "markdown",
      "metadata": {
        "id": "view-in-github",
        "colab_type": "text"
      },
      "source": [
        "<a href=\"https://colab.research.google.com/github/Mohamed7221/Financial_Forecasting/blob/main/Financial_Forecasting.ipynb\" target=\"_parent\"><img src=\"https://colab.research.google.com/assets/colab-badge.svg\" alt=\"Open In Colab\"/></a>"
      ]
    },
    {
      "cell_type": "code",
      "execution_count": 1,
      "metadata": {
        "colab": {
          "base_uri": "https://localhost:8080/"
        },
        "id": "RlAGhSy5egQf",
        "outputId": "ea3216c3-4925-4e0f-ef72-bb35a37d7edf"
      },
      "outputs": [
        {
          "output_type": "stream",
          "name": "stdout",
          "text": [
            "Root Mean Squared Error: 43.317607008080245\n",
            "R² Score: 0.7749801874160767\n",
            "Actual Cash Flow: 1445, Predicted Cash Flow: 1369.9718017578125\n",
            "Recommendation: Your cash flow looks positive. Keep up the good spending habits.\n",
            "Actual Cash Flow: 1300, Predicted Cash Flow: 1300.0286865234375\n",
            "Recommendation: Your cash flow looks positive. Keep up the good spending habits.\n",
            "Actual Cash Flow: 1225, Predicted Cash Flow: 1225.1177978515625\n",
            "Recommendation: Your cash flow looks positive. Keep up the good spending habits.\n",
            "\n",
            "Average Monthly Expenses:\n",
            "Rent             1200.000000\n",
            "Groceries         323.636364\n",
            "Utilities         164.090909\n",
            "Entertainment     223.636364\n",
            "dtype: float64\n",
            "Consider reducing your spending on Rent by at least 10% if possible.\n",
            "Consider reducing your spending on Groceries by at least 10% if possible.\n",
            "Consider reducing your spending on Utilities by at least 10% if possible.\n",
            "Consider reducing your spending on Entertainment by at least 10% if possible.\n"
          ]
        }
      ],
      "source": [
        "import pandas as pd\n",
        "from sklearn.model_selection import train_test_split\n",
        "from xgboost import XGBRegressor\n",
        "from sklearn.metrics import mean_squared_error, r2_score\n",
        "import numpy as np\n",
        "\n",
        "# قراءة البيانات من ملف CSV\n",
        "data = pd.read_csv('financial_data.csv')\n",
        "\n",
        "# إزالة الصف الأول حيث يحتوي على قيمة NaN بعد استخدام diff\n",
        "data = data.dropna()\n",
        "\n",
        "# إعداد البيانات للتدريب\n",
        "X = data[['Income', 'Rent', 'Groceries', 'Utilities', 'Entertainment',\n",
        "           'Spending Percentage', 'Cash Flow Lagged', 'Total Expenses',\n",
        "           'Expenses Change', 'Rent Percentage', 'Groceries Percentage',\n",
        "           'Utilities Percentage', 'Entertainment Percentage',\n",
        "           'Transaction Count']]\n",
        "y = data['Cash Flow']\n",
        "\n",
        "# تقسيم البيانات إلى مجموعة تدريب واختبار\n",
        "X_train, X_test, y_train, y_test = train_test_split(X, y, test_size=0.2, random_state=42)\n",
        "\n",
        "# إنشاء نموذج XGBoost\n",
        "model = XGBRegressor(objective='reg:squarederror', n_estimators=100, learning_rate=0.1)\n",
        "model.fit(X_train, y_train)\n",
        "\n",
        "# التنبؤ بالتدفق النقدي\n",
        "predictions = model.predict(X_test)\n",
        "\n",
        "# تقييم النموذج\n",
        "rmse = np.sqrt(mean_squared_error(y_test, predictions))\n",
        "r2 = r2_score(y_test, predictions)\n",
        "print(f\"Root Mean Squared Error: {rmse}\")\n",
        "print(f\"R² Score: {r2}\")\n",
        "\n",
        "# تقديم توصيات بسيطة\n",
        "for i in range(len(predictions)):\n",
        "    print(f\"Actual Cash Flow: {y_test.values[i]}, Predicted Cash Flow: {predictions[i]}\")\n",
        "    if predictions[i] < 0:\n",
        "        print(\"Recommendation: Consider reducing your expenses or finding additional income sources.\")\n",
        "    else:\n",
        "        print(\"Recommendation: Your cash flow looks positive. Keep up the good spending habits.\")\n",
        "\n",
        "# تحليل النفقات\n",
        "average_expenses = data[['Rent', 'Groceries', 'Utilities', 'Entertainment']].mean()\n",
        "print(\"\\nAverage Monthly Expenses:\")\n",
        "print(average_expenses)\n",
        "\n",
        "# تقديم نصائح لتقليل النفقات\n",
        "for expense in average_expenses.index:\n",
        "    print(f\"Consider reducing your spending on {expense} by at least 10% if possible.\")"
      ]
    }
  ]
}